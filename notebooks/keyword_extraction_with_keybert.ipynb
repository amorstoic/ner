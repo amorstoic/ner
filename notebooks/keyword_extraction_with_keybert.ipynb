{
 "cells": [
  {
   "cell_type": "code",
   "execution_count": 1,
   "id": "47831e64",
   "metadata": {},
   "outputs": [],
   "source": [
    "%config Completer.use_jedi=False"
   ]
  },
  {
   "cell_type": "code",
   "execution_count": 2,
   "id": "58e67811",
   "metadata": {},
   "outputs": [],
   "source": [
    "from keybert import KeyBERT"
   ]
  },
  {
   "cell_type": "code",
   "execution_count": 3,
   "id": "d062893a",
   "metadata": {},
   "outputs": [],
   "source": [
    "model = KeyBERT(model=\"distilbert-base-nli-mean-tokens\")"
   ]
  },
  {
   "cell_type": "code",
   "execution_count": 4,
   "id": "2671b768",
   "metadata": {},
   "outputs": [],
   "source": [
    "doc1 = \"\"\"\n",
    "    The dominant sequence transduction models are based on complex recurrent or\n",
    "    convolutional neural networks in an encoder-decoder configuration. The best performing\n",
    "    models also connect the encoder and decoder through an attention mechanism. We\n",
    "    propose a new simple network architecture, the Transformer, based solely on attention\n",
    "    mechanisms, dispensing with recurrence and convolutions entirely. Experiments on two\n",
    "    machine translation tasks show these models to be superior in quality while being more\n",
    "    parallelizable and requiring significantly less time to train. Our model achieves 28.4 BLEU\n",
    "    on the WMT 2014 English-to-German translation task, improving over the existing\n",
    "    best results, including ensembles by over 2 BLEU. On the WMT 2014 English-to-French\n",
    "    translation task, our model establishes a new single-model state-of-the-art BLEU score of\n",
    "    41.8 after training for 3.5 days on eight GPUs, a small fraction of the training\n",
    "    costs of the best models from the literature. We show that the Transformer\n",
    "    generalizes well to other tasks by applying it successfully to English constituency\n",
    "    parsing both with large and limited training data.\n",
    "\"\"\""
   ]
  },
  {
   "cell_type": "code",
   "execution_count": 5,
   "id": "2fa04346",
   "metadata": {},
   "outputs": [],
   "source": [
    "doc2 = \"\"\"\n",
    "    The case stemmed from an allegation Mr Trump directed his former lawyer to\n",
    "    pay an adult film actress to stop her speaking out about an alleged affair.\\n\\nThe\n",
    "    lawyer, Michael Cohen, was later jailed on multiple charges.\\n\\nThe FEC, the\n",
    "    regulatory agency tasked with enforcing campaign finance law, announced the case closure\n",
    "    Thursday.\\n\\nIt came after the commission, split evenly between Democrats and Republicans,\n",
    "    became deadlocked 2-2 on taking action at a closed-door meeting in February.\\n\\nThe\n",
    "    vote came months after an internal report recommended that there was 'reason to\n",
    "    believe' Mr Trump's campaign had knowingly violated campaign finance law.\n",
    "\"\"\""
   ]
  },
  {
   "cell_type": "code",
   "execution_count": 6,
   "id": "827323b4",
   "metadata": {},
   "outputs": [],
   "source": [
    "doc3 = \"\"\"\n",
    "    In natural language understanding (NLU) tasks, there is a hierarchy of lenses\n",
    "    through which we can extract meaning — from words to sentences to paragraphs to\n",
    "    documents. At the document level, one of the most useful ways to understand text is by\n",
    "    analyzing its topics. The process of learning, recognizing, and extracting these topics\n",
    "    across a collection of documents is called topic modeling.\\nIn this post, we will\n",
    "    explore topic modeling through 4 of the most popular techniques today: LSA, pLSA, LDA,\n",
    "    and the newer, deep learning-based lda2vec.\\nOverview\\nAll topic models are based\n",
    "    on the same basic assumption:\\neach document consists of a mixture of topics,\n",
    "    and\\neach topic consists of a collection of words.\\nIn other words, topic models are\n",
    "    built around the idea that the semantics of our document are actually being governed\n",
    "    by some hidden, or “latent,” variables that we are not observing. As a result,\n",
    "    the goal of topic modeling is to uncover these latent variables — topics — that\n",
    "    shape the meaning of our document and corpus. The rest of this blog post will build\n",
    "    up an understanding of how different topic models uncover these latent topics\\n \n",
    "\"\"\""
   ]
  },
  {
   "cell_type": "code",
   "execution_count": 7,
   "id": "4257f3d1",
   "metadata": {},
   "outputs": [
    {
     "name": "stdout",
     "output_type": "stream",
     "text": [
      "CPU times: user 616 ms, sys: 47.4 ms, total: 663 ms\n",
      "Wall time: 614 ms\n"
     ]
    },
    {
     "data": {
      "text/plain": [
       "[('gpus', 0.2231),\n",
       " ('neural', 0.2124),\n",
       " ('decoder', 0.2049),\n",
       " ('improving', 0.1652),\n",
       " ('2014', 0.1621),\n",
       " ('recurrence', 0.1607),\n",
       " ('transformer', 0.1586),\n",
       " ('training', 0.1542),\n",
       " ('experiments', 0.1382),\n",
       " ('parsing', 0.1225)]"
      ]
     },
     "execution_count": 7,
     "metadata": {},
     "output_type": "execute_result"
    }
   ],
   "source": [
    "%%time\n",
    "model.extract_keywords(\n",
    "    doc1,\n",
    "    top_n=10,\n",
    "    keyphrase_ngram_range=(1, 1),\n",
    "    stop_words=\"english\",\n",
    ")"
   ]
  },
  {
   "cell_type": "code",
   "execution_count": null,
   "id": "0e6f2825",
   "metadata": {},
   "outputs": [],
   "source": [
    "%%time\n",
    "model.extract_keywords(\n",
    "    doc1,\n",
    "    top_n=10,\n",
    "    keyphrase_ngram_range=(1, 1),\n",
    "    stop_words=\"english\",\n",
    "    use_maxsum=True,\n",
    "    nr_candidates=20\n",
    ")"
   ]
  },
  {
   "cell_type": "code",
   "execution_count": null,
   "id": "e7222812",
   "metadata": {},
   "outputs": [],
   "source": [
    "%%time\n",
    "model.extract_keywords(\n",
    "    doc1,\n",
    "    top_n=10,\n",
    "    keyphrase_ngram_range=(1, 1),\n",
    "    stop_words=\"english\",\n",
    "    use_mmr=True,\n",
    "    \n",
    ")"
   ]
  },
  {
   "cell_type": "code",
   "execution_count": 8,
   "id": "8e248d98",
   "metadata": {},
   "outputs": [],
   "source": [
    "model.extract_keywords?"
   ]
  },
  {
   "cell_type": "code",
   "execution_count": null,
   "id": "e5183a9b",
   "metadata": {},
   "outputs": [],
   "source": []
  },
  {
   "cell_type": "code",
   "execution_count": null,
   "id": "4db290ef",
   "metadata": {},
   "outputs": [],
   "source": []
  }
 ],
 "metadata": {
  "kernelspec": {
   "display_name": "Python 3",
   "language": "python",
   "name": "python3"
  },
  "language_info": {
   "codemirror_mode": {
    "name": "ipython",
    "version": 3
   },
   "file_extension": ".py",
   "mimetype": "text/x-python",
   "name": "python",
   "nbconvert_exporter": "python",
   "pygments_lexer": "ipython3",
   "version": "3.8.6"
  }
 },
 "nbformat": 4,
 "nbformat_minor": 5
}
